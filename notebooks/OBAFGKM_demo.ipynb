{
 "cells": [
  {
   "cell_type": "markdown",
   "id": "4aa6cea2",
   "metadata": {},
   "source": [
    "## Astronify's Spectrum preview mode with OBAFGKM samples\n",
    "Based on data from the MILES library service developed by the Spanish Virtual Observatory in the framework of the IAU Comission G5 Working Group : Spectral Stellar Libraries"
   ]
  },
  {
   "cell_type": "code",
   "execution_count": null,
   "id": "6a5a4813",
   "metadata": {},
   "outputs": [],
   "source": [
    "from astropy.io import fits,ascii\n",
    "import numpy as np\n",
    "import os\n",
    "import requests\n",
    "import matplotlib.pyplot as plt\n",
    "\n",
    "from astropy.table import QTable, Table, Column\n",
    "from astronify.series import SoniSeries"
   ]
  },
  {
   "cell_type": "code",
   "execution_count": null,
   "id": "808908c9",
   "metadata": {},
   "outputs": [],
   "source": [
    "# File names to save each file when downloaded for the Miles exmaple spectra.\n",
    "ostar_filename = \"1-Type_O_Stelib_HD269698.fits\"\n",
    "bstar_filename = \"2-Type_B_HD003369_s0020.fits\"\n",
    "astar_filename = \"3-Type_A_HD031295_s0166.fits\"\n",
    "fstar_filename = \"4-Type_F_HD222451_s0889.fits\"\n",
    "gstar_filename = \"5-Type_G_HD114606_s0462.fits\"\n",
    "kstar_filename = \"6-Type_K_HD233832_s0410.fits\"\n",
    "mstar_filename = \"7-Type_M_HD036395_s0183.fits\"\n",
    "\n",
    "all_filenames = np.asarray([ostar_filename, bstar_filename, astar_filename, fstar_filename,\n",
    "                 gstar_filename, kstar_filename, mstar_filename])\n",
    "n_stars = len(all_filenames)"
   ]
  },
  {
   "cell_type": "code",
   "execution_count": null,
   "id": "0280bcc1",
   "metadata": {},
   "outputs": [],
   "source": [
    "# These \"share\" URLs are used to download the sample files.\n",
    "ostar_link = \"https://stsci.box.com/shared/static/v7eecpzpxfnb3fxywy0amve4ofcoz0ns\"\n",
    "bstar_link = \"https://stsci.box.com/shared/static/vpoby26z4f7cm9mavlo7fziikb1s3v9n\"\n",
    "astar_link = \"https://stsci.box.com/shared/static/wmmwy5im68lnhjcw63iyc8rz3n65f1cr\"\n",
    "fstar_link = \"https://stsci.box.com/shared/static/ro5ix00yh19iid9wxlzgi41bjfbremtz\"\n",
    "gstar_link = \"https://stsci.box.com/shared/static/yv13duxb5qqtjdfgmsirh8rbyw3r68s2\"\n",
    "kstar_link = \"https://stsci.box.com/shared/static/zbqy0bzesz7z8mqu0h0nqzffbnc4h0xg\"\n",
    "mstar_link = \"https://stsci.box.com/shared/static/ztq2x6vsx7ickq0zmmimb7qhguu8vz3a\"\n",
    "\n",
    "all_urls = np.asarray([ostar_link, bstar_link, astar_link, fstar_link, gstar_link,\n",
    "                       kstar_link, mstar_link])"
   ]
  },
  {
   "cell_type": "code",
   "execution_count": null,
   "id": "9f205b59",
   "metadata": {},
   "outputs": [],
   "source": [
    "# Download each sample spectrum to the local working directory.\n",
    "odir = \"miles_stellar_spectra\"\n",
    "if not os.path.isdir(odir):\n",
    "    os.makedirs(odir)"
   ]
  },
  {
   "cell_type": "code",
   "execution_count": null,
   "id": "13223d56",
   "metadata": {},
   "outputs": [],
   "source": [
    "# Download the sample spectra.\n",
    "for file, url in zip(all_filenames, all_urls):\n",
    "    print(\"Downloading \" + file + \" via \" + url + \"...\")\n",
    "    response = requests.get(url)\n",
    "    open(odir + os.path.sep + file, \"wb\").write(response.content)"
   ]
  },
  {
   "cell_type": "code",
   "execution_count": null,
   "id": "e71b17db",
   "metadata": {},
   "outputs": [],
   "source": [
    "# Read in the wavelengths and fluxes of each spectrum.\n",
    "# We'll store them as a list of dict objects contiaining the wavelengths and fluxes of\n",
    "# the seven sample spectra.\n",
    "all_spectra = []\n",
    "for ii, file in enumerate(all_filenames):\n",
    "    file = odir + os.path.sep + file\n",
    "    if os.path.isfile(file):\n",
    "        with fits.open(file) as hdulist:\n",
    "            # Read in flux from the data table.\n",
    "            flux = np.array(hdulist[0].data)\n",
    "            # Normalize the flux by the maximum value.\n",
    "            flux_norm = np.reshape(flux/(np.nanmax(flux)), (hdulist[0].header['NAXIS1']))\n",
    "            # Setup list of wavelengths.\n",
    "            wave = np.ones(hdulist[0].header[\"NAXIS1\"], dtype=float)\n",
    "            # Compute the wavelength values from the WCS header keywords.\n",
    "            for i in range(hdulist[0].header[\"NAXIS1\"]):\n",
    "                wave[i] = hdulist[0].header[\"CRVAL1\"] + i*hdulist[0].header[\"CDELT1\"]\n",
    "            hdulist.close()\n",
    "        # Add this star's wavelength and fluxes to the dict object.\n",
    "        this_spec = dict()\n",
    "        this_spec[\"wls\"] = wave\n",
    "        this_spec[\"fls\"] = flux_norm\n",
    "        all_spectra.append(this_spec)\n",
    "    else:\n",
    "        raise IOError(\"Could not find expected input file: \" + file)"
   ]
  },
  {
   "cell_type": "code",
   "execution_count": null,
   "id": "445c543e",
   "metadata": {
    "scrolled": false
   },
   "outputs": [],
   "source": [
    "# Construct the Sonification object.\n",
    "soni_table = Table([all_spectra[0][\"wls\"], all_spectra[0][\"fls\"]],\n",
    "                             names=[\"wavelengths\", \"flux\"])\n",
    "\n",
    "# In an \"ensemble\" preview, each section is a different pitch frequency.  Each section\n",
    "# gets played separately, then at the end all sections get played together.\n",
    "data_soni_ensemble = SoniSeries(soni_table, time_col=\"wavelengths\", val_col=\"flux\",\n",
    "                                preview_type=\"ensemble\")\n",
    "ensemble_prev = data_soni_ensemble.preview_object\n",
    "ensemble_prev.sonify_preview()\n",
    "ensemble_prev.play_preview()"
   ]
  },
  {
   "cell_type": "code",
   "execution_count": null,
   "id": "243081cd",
   "metadata": {},
   "outputs": [],
   "source": [
    "# In a \"scan\" preview, each section has the same frequency.  Each section gets\n",
    "# played separately, and then there is no combined sound made.\n",
    "data_soni_scan = SoniSeries(soni_table, time_col=\"wavelengths\", val_col=\"flux\",\n",
    "                       preview_type=\"scan\")\n",
    "scan_prev = data_soni_scan.preview_object\n",
    "scan_prev.sonify_preview()\n",
    "scan_prev.play_preview()"
   ]
  },
  {
   "cell_type": "code",
   "execution_count": null,
   "id": "82914e78",
   "metadata": {
    "scrolled": true
   },
   "outputs": [],
   "source": [
    "data_soni = SoniSeries(spectrum_B)\n",
    "data_soni_preview = data_soni.preview_object\n",
    "data_soni_preview.sonify_preview()\n",
    "data_soni_preview.play_preview()"
   ]
  },
  {
   "cell_type": "code",
   "execution_count": null,
   "id": "9de2f2aa",
   "metadata": {
    "scrolled": false
   },
   "outputs": [],
   "source": [
    "data_soni = SoniSeries(spectrum_A)\n",
    "data_soni_preview = data_soni.preview_object\n",
    "data_soni_preview.sonify_preview()\n",
    "data_soni_preview.play_preview()"
   ]
  },
  {
   "cell_type": "code",
   "execution_count": null,
   "id": "a71a37ec",
   "metadata": {
    "scrolled": false
   },
   "outputs": [],
   "source": [
    "data_soni = SoniSeries(spectrum_F)\n",
    "data_soni_preview = data_soni.preview_object\n",
    "data_soni_preview.sonify_preview()\n",
    "data_soni_preview.play_preview()"
   ]
  },
  {
   "cell_type": "code",
   "execution_count": null,
   "id": "50dd60d9",
   "metadata": {
    "scrolled": true
   },
   "outputs": [],
   "source": [
    "data_soni = SoniSeries(spectrum_G, flatten=True)\n",
    "data_soni_preview = data_soni.preview_object\n",
    "data_soni_preview.sonify_preview()\n",
    "data_soni_preview.play_preview()"
   ]
  },
  {
   "cell_type": "code",
   "execution_count": null,
   "id": "df882d08",
   "metadata": {
    "scrolled": false
   },
   "outputs": [],
   "source": [
    "data_soni = SoniSeries(spectrum_K)\n",
    "data_soni_preview = data_soni.preview_object\n",
    "data_soni_preview.sonify_preview()\n",
    "data_soni_preview.play_preview()"
   ]
  },
  {
   "cell_type": "code",
   "execution_count": null,
   "id": "e18f174b",
   "metadata": {
    "scrolled": true
   },
   "outputs": [],
   "source": [
    "data_soni = SoniSeries(spectrum_M, flatten=True)\n",
    "data_soni_preview = data_soni.preview_object\n",
    "data_soni_preview.sonify_preview()\n",
    "data_soni_preview.play_preview()"
   ]
  },
  {
   "cell_type": "code",
   "execution_count": null,
   "id": "f153ae5d",
   "metadata": {},
   "outputs": [],
   "source": []
  },
  {
   "cell_type": "code",
   "execution_count": null,
   "id": "2a1d4370",
   "metadata": {},
   "outputs": [],
   "source": []
  }
 ],
 "metadata": {
  "kernelspec": {
   "display_name": "Python 3 (ipykernel)",
   "language": "python",
   "name": "python3"
  },
  "language_info": {
   "codemirror_mode": {
    "name": "ipython",
    "version": 3
   },
   "file_extension": ".py",
   "mimetype": "text/x-python",
   "name": "python",
   "nbconvert_exporter": "python",
   "pygments_lexer": "ipython3",
   "version": "3.8.15"
  }
 },
 "nbformat": 4,
 "nbformat_minor": 5
}
