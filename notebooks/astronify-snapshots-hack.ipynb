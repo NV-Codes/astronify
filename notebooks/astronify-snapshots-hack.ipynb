{
 "cells": [
  {
   "cell_type": "code",
   "execution_count": null,
   "id": "6acbafed",
   "metadata": {},
   "outputs": [],
   "source": [
    "from astronify.series import SoniSeries\n",
    "from astropy.table import Table\n",
    "from astropy.io import fits\n",
    "\n",
    "import numpy as np\n",
    "\n",
    "from pyo import *"
   ]
  },
  {
   "cell_type": "markdown",
   "id": "5e3b44e8",
   "metadata": {},
   "source": [
    "### dummy data for testing SeriesPreview"
   ]
  },
  {
   "cell_type": "code",
   "execution_count": null,
   "id": "5bd74c81",
   "metadata": {},
   "outputs": [],
   "source": [
    "data_table = Table({\"time\": list(range(0, 15, 1)),\n",
    "                    \"flux\": [0.3, 1.30, 0.3, 0.50, 0.5, 0.4, 10.3, 0.2, 0.3, 0.1, 0.4, 0.3, 1.2, 0.3, 1.1]})"
   ]
  },
  {
   "cell_type": "code",
   "execution_count": null,
   "id": "bda1d4fd",
   "metadata": {},
   "outputs": [],
   "source": [
    "import matplotlib.pyplot as plt\n",
    "plt.plot(data_table['time'], data_table['flux'], marker='o', color='k')\n",
    "\n",
    "plt.axvspan(0,3, color='r', alpha=0.5, lw=0)\n",
    "plt.axvspan(3,6, color='orange', alpha=0.5, lw=0)\n",
    "plt.axvspan(6,9, color='y', alpha=0.5, lw=0)\n",
    "plt.axvspan(9,12, color='g', alpha=0.5, lw=0)\n",
    "plt.axvspan(12,15, color='royalblue', alpha=0.5, lw=0)"
   ]
  },
  {
   "cell_type": "code",
   "execution_count": null,
   "id": "7c025809",
   "metadata": {},
   "outputs": [],
   "source": [
    "# Call SoniSeries instance and feed it our data\n",
    "data_soni = SoniSeries(data_table)\n",
    "# Calling SeriesPreviews from SoniSeries object \n",
    "data_soni_preview = data_soni.preview_object\n",
    "\n",
    "# Sonifying preview of our data + playing\n",
    "data_soni_preview.sonify_preview()\n",
    "data_soni_preview.play_preview()"
   ]
  },
  {
   "cell_type": "code",
   "execution_count": null,
   "id": "644f4ca5",
   "metadata": {},
   "outputs": [],
   "source": [
    "lfo = Sine(10, 0, 0.91873589, 0)\n",
    "Sine(freq=900, mul=lfo).out(dur=4.0)"
   ]
  },
  {
   "cell_type": "code",
   "execution_count": null,
   "id": "df70bb84",
   "metadata": {},
   "outputs": [],
   "source": [
    "data_table = Table({\"time\": list(range(0, 15, 1)),\n",
    "                    \"flux\": [0.3, 20.30, 0.3, 0.50, 0.5, 0.4, 0.3, 0.2, 0.3, 0.1, 0.4, 0.3, 30.2, 0.3, 20.1]})"
   ]
  },
  {
   "cell_type": "code",
   "execution_count": null,
   "id": "7e9924e9",
   "metadata": {},
   "outputs": [],
   "source": [
    "import matplotlib.pyplot as plt\n",
    "plt.plot(data_table['time'], data_table['flux'], marker='o', color='k')\n",
    "\n",
    "plt.axvspan(0,3, color='r', alpha=0.5, lw=0)\n",
    "plt.axvspan(3,6, color='orange', alpha=0.5, lw=0)\n",
    "plt.axvspan(6,9, color='y', alpha=0.5, lw=0)\n",
    "plt.axvspan(9,12, color='g', alpha=0.5, lw=0)\n",
    "plt.axvspan(12,15, color='royalblue', alpha=0.5, lw=0)"
   ]
  },
  {
   "cell_type": "code",
   "execution_count": null,
   "id": "c5b873f0",
   "metadata": {},
   "outputs": [],
   "source": [
    "np.sum([0.68211921, 0.03145695, 0.01655629, 0.01986755, 0.84271523])"
   ]
  },
  {
   "cell_type": "code",
   "execution_count": null,
   "id": "f6e45c77",
   "metadata": {},
   "outputs": [],
   "source": [
    "# Call SoniSeries instance and feed it our data\n",
    "data_soni = SoniSeries(data_table)\n",
    "# Calling SeriesPreviews from SoniSeries object \n",
    "data_soni_preview = data_soni.preview_object\n",
    "\n",
    "# Sonifying preview of our data + playing\n",
    "data_soni_preview.sonify_preview()\n",
    "data_soni_preview.play_preview()"
   ]
  },
  {
   "cell_type": "code",
   "execution_count": null,
   "id": "35e668f9",
   "metadata": {},
   "outputs": [],
   "source": [
    "data_table = Table({\"time\": list(range(0, 15, 1)),\n",
    "                    \"flux\": [0.3, -20.30, 0.3, 0.50, 0.5, 0.4, 0.3, 0.2, 0.3, 0.1, 0.4, 0.3, 30.2, 0.3, 20.1]})"
   ]
  },
  {
   "cell_type": "code",
   "execution_count": null,
   "id": "e49103f1",
   "metadata": {},
   "outputs": [],
   "source": [
    "import matplotlib.pyplot as plt\n",
    "plt.plot(data_table['time'], data_table['flux'], marker='o', color='k')\n",
    "\n",
    "plt.axvspan(0,3, color='r', alpha=0.5, lw=0)\n",
    "plt.axvspan(3,6, color='orange', alpha=0.5, lw=0)\n",
    "plt.axvspan(6,9, color='y', alpha=0.5, lw=0)\n",
    "plt.axvspan(9,12, color='g', alpha=0.5, lw=0)\n",
    "plt.axvspan(12,15, color='royalblue', alpha=0.5, lw=0)"
   ]
  },
  {
   "cell_type": "code",
   "execution_count": null,
   "id": "5158727c",
   "metadata": {},
   "outputs": [],
   "source": [
    "# TODO: We have a negative area in the first fluctuation (\"absorption\" line)\n",
    "\n",
    "# Call SoniSeries instance and feed it our data\n",
    "data_soni = SoniSeries(data_table)\n",
    "# Calling SeriesPreviews from SoniSeries object \n",
    "data_soni_preview = data_soni.preview_object\n",
    "\n",
    "# Sonifying preview of our data + playing\n",
    "data_soni_preview.sonify_preview()\n",
    "data_soni_preview.play_preview()"
   ]
  },
  {
   "cell_type": "code",
   "execution_count": null,
   "id": "ca540bf1",
   "metadata": {},
   "outputs": [],
   "source": [
    "x = list(range(0, 15, 1))\n",
    "y = np.ones(15)\n",
    "\n",
    "data_table = Table({\"time\": x,\n",
    "                    \"flux\": y})"
   ]
  },
  {
   "cell_type": "code",
   "execution_count": null,
   "id": "fab274ab",
   "metadata": {},
   "outputs": [],
   "source": [
    "import matplotlib.pyplot as plt\n",
    "plt.plot(data_table['time'], data_table['flux'], marker='o', color='k')\n",
    "\n",
    "plt.axvspan(0,3, color='r', alpha=0.5, lw=0)\n",
    "plt.axvspan(3,6, color='orange', alpha=0.5, lw=0)\n",
    "plt.axvspan(6,9, color='y', alpha=0.5, lw=0)\n",
    "plt.axvspan(9,12, color='g', alpha=0.5, lw=0)\n",
    "plt.axvspan(12,15, color='royalblue', alpha=0.5, lw=0)"
   ]
  },
  {
   "cell_type": "code",
   "execution_count": null,
   "id": "c2e12110",
   "metadata": {},
   "outputs": [],
   "source": [
    "# Call SoniSeries instance and feed it our data\n",
    "data_soni = SoniSeries(data_table)\n",
    "# Calling SeriesPreviews from SoniSeries object \n",
    "data_soni_preview = data_soni.preview_object\n",
    "\n",
    "# Sonifying preview of our data + playing\n",
    "data_soni_preview.sonify_preview()\n",
    "data_soni_preview.play_preview()"
   ]
  },
  {
   "cell_type": "code",
   "execution_count": null,
   "id": "cdfa7243",
   "metadata": {},
   "outputs": [],
   "source": [
    "x = list(range(0, 15, 1))\n",
    "y = x\n",
    "\n",
    "data_table = Table({\"time\": x,\n",
    "                    \"flux\": y})"
   ]
  },
  {
   "cell_type": "code",
   "execution_count": null,
   "id": "28df65ea",
   "metadata": {},
   "outputs": [],
   "source": [
    "import matplotlib.pyplot as plt\n",
    "plt.plot(data_table['time'], data_table['flux'], marker='o', color='k')\n",
    "\n",
    "plt.axvspan(0,3, color='r', alpha=0.5, lw=0)\n",
    "plt.axvspan(3,6, color='orange', alpha=0.5, lw=0)\n",
    "plt.axvspan(6,9, color='y', alpha=0.5, lw=0)\n",
    "plt.axvspan(9,12, color='g', alpha=0.5, lw=0)\n",
    "plt.axvspan(12,15, color='royalblue', alpha=0.5, lw=0)"
   ]
  },
  {
   "cell_type": "code",
   "execution_count": null,
   "id": "6557b47e",
   "metadata": {},
   "outputs": [],
   "source": [
    "# Call SoniSeries instance and feed it our data\n",
    "data_soni = SoniSeries(data_table)\n",
    "# Calling SeriesPreviews from SoniSeries object \n",
    "data_soni_preview = data_soni.preview_object\n",
    "\n",
    "# Sonifying preview of our data + playing\n",
    "data_soni_preview.sonify_preview()\n",
    "data_soni_preview.play_preview()"
   ]
  },
  {
   "cell_type": "code",
   "execution_count": null,
   "id": "479caf84",
   "metadata": {},
   "outputs": [],
   "source": [
    "np.exp(amps[0])"
   ]
  },
  {
   "cell_type": "code",
   "execution_count": null,
   "id": "d8fd9ec4",
   "metadata": {},
   "outputs": [],
   "source": [
    "amps = [0.02040816, 0.08163265, 0.14285714, 0.20408163, 0.26530612]\n",
    "\n",
    "lfo1 = Sine(10, 0, float(1/np.abs(np.log(amps[0]))), 0)\n",
    "#lfo1 = Sine(10, 0, amps[0]*10, 0)\n",
    "lfo2 = Sine(10, 0, amps[1], 0)\n",
    "lfo3 = Sine(10, 0, amps[2], 0)\n",
    "lfo4 = Sine(10, 0, amps[3], 0)\n",
    "lfo5 = Sine(10, 0, float(1/np.abs(np.log(amps[4]))), 0)\n",
    "#lfo5 = Sine(10, 0, amps[4]*10, 0)\n",
    "\n",
    "streams1 = Sine(freq=300, mul=lfo1).out(delay=0, dur=2.0)\n",
    "streams2 = Sine(freq=300, mul=lfo5).out(delay=2.5, dur=4.0)"
   ]
  },
  {
   "cell_type": "code",
   "execution_count": null,
   "id": "91ece8f7",
   "metadata": {},
   "outputs": [],
   "source": [
    "float(1/np.abs(np.log(amps[0]))), float(1/np.abs(np.log(amps[4])))"
   ]
  },
  {
   "cell_type": "code",
   "execution_count": null,
   "id": "488bcc85",
   "metadata": {},
   "outputs": [],
   "source": [
    "amps[0]*10, amps[4]*10"
   ]
  },
  {
   "cell_type": "code",
   "execution_count": null,
   "id": "57cf766a",
   "metadata": {},
   "outputs": [],
   "source": []
  },
  {
   "cell_type": "code",
   "execution_count": null,
   "id": "74339612",
   "metadata": {},
   "outputs": [],
   "source": []
  },
  {
   "cell_type": "code",
   "execution_count": null,
   "id": "a0973367",
   "metadata": {},
   "outputs": [],
   "source": [
    "data_table = Table({\"time\": list(range(0, 15, 1)),\n",
    "                    \"flux\": [0.3, 0.30, 0.3, 0.30, 0.3, 0.3, 0.3, 0.3, 0.3, 0.3, 0.3, 0.3, 0.3, 040.4, 0.3]})"
   ]
  },
  {
   "cell_type": "code",
   "execution_count": null,
   "id": "ebec7606",
   "metadata": {},
   "outputs": [],
   "source": [
    "import matplotlib.pyplot as plt\n",
    "plt.plot(data_table['time'], data_table['flux'], marker='o', color='k')\n",
    "\n",
    "plt.axvspan(0,3, color='r', alpha=0.5, lw=0)\n",
    "plt.axvspan(3,6, color='orange', alpha=0.5, lw=0)\n",
    "plt.axvspan(6,9, color='y', alpha=0.5, lw=0)\n",
    "plt.axvspan(9,12, color='g', alpha=0.5, lw=0)\n",
    "plt.axvspan(12,15, color='royalblue', alpha=0.5, lw=0)"
   ]
  },
  {
   "cell_type": "code",
   "execution_count": null,
   "id": "a3236c14",
   "metadata": {},
   "outputs": [],
   "source": [
    "# TODO: Normalize range of sound so that it's comfortable to the human ears\n",
    "# The sound in blue range is way too loud because the flat ranges are all 0.1 and \n",
    "# blue is the only one with a Sine wave for the amp\n",
    "\n",
    "# Call SoniSeries instance and feed it our data\n",
    "data_soni = SoniSeries(data_table)\n",
    "# Calling SeriesPreviews from SoniSeries object \n",
    "data_soni_preview = data_soni.preview_object\n",
    "\n",
    "# Sonifying preview of our data + playing\n",
    "data_soni_preview.sonify_preview()\n",
    "data_soni_preview.play_preview()"
   ]
  },
  {
   "cell_type": "markdown",
   "id": "7f6999ce",
   "metadata": {},
   "source": [
    "### troubleshooting functionality above"
   ]
  },
  {
   "cell_type": "code",
   "execution_count": null,
   "id": "2db3eb27",
   "metadata": {},
   "outputs": [],
   "source": [
    "import matplotlib.pyplot as plt\n",
    "plt.plot(data_table['time'], data_table['flux'], marker='o', color='k')\n",
    "\n",
    "plt.axvspan(0,3, color='r', alpha=0.5, lw=0)\n",
    "plt.axvspan(3,6, color='orange', alpha=0.5, lw=0)\n",
    "plt.axvspan(6,9, color='y', alpha=0.5, lw=0)\n",
    "plt.axvspan(9,12, color='g', alpha=0.5, lw=0)\n",
    "plt.axvspan(12,15, color='royalblue', alpha=0.5, lw=0)"
   ]
  },
  {
   "cell_type": "code",
   "execution_count": null,
   "id": "13ec8825",
   "metadata": {},
   "outputs": [],
   "source": [
    "tremolo_vals = [0.37796447, 0.37796447, 0.37796447, 1.,         0.65465367]\n",
    "amplitudes = [0.15909091, 0.21590909, 0.11363636, 0.13636364, 0.10227273]\n",
    "pitches = [300, 400, 500, 600, 700]"
   ]
  },
  {
   "cell_type": "code",
   "execution_count": null,
   "id": "f07eeffe",
   "metadata": {},
   "outputs": [],
   "source": [
    "s = Server().boot()\n",
    "s.start()\n",
    "\n",
    "# TODO: probably iterate to create a list of LFOs \n",
    "# based on the frequencies calculated\n",
    "\n",
    "factor = 10\n",
    "\n",
    "lfo1 = Sine(tremolo_vals[0]*factor, 0, amplitudes[0], 0)\n",
    "lfo2 = Sine(tremolo_vals[1]*factor, 0, amplitudes[1], 0)\n",
    "lfo3 = Sine(tremolo_vals[2]*factor, 0, amplitudes[2], 0)\n",
    "lfo4 = Sine(tremolo_vals[3]*factor, 0, amplitudes[3], 0)\n",
    "lfo5 = Sine(tremolo_vals[4]*factor, 0, amplitudes[4], 0)\n",
    "\n",
    "sine1 = Sine(freq=pitches[0], mul=lfo1).out(dur=4.0)\n",
    " \n",
    "sine2 = Sine(freq=pitches[1], mul=lfo2).out(delay=0.5, dur=3.5)\n",
    "\n",
    "sine3 = Sine(freq=pitches[2], mul=lfo3).out(delay=1.0, dur=3.0)\n",
    "\n",
    "sine4 = Sine(freq=pitches[3], mul=lfo4).out(delay=1.5, dur=2.5)\n",
    "\n",
    "sine5 = Sine(freq=pitches[4], mul=lfo5).out(delay=2.0, dur=2.0)"
   ]
  },
  {
   "cell_type": "code",
   "execution_count": null,
   "id": "a39bca37",
   "metadata": {},
   "outputs": [],
   "source": [
    "np.arange(0,2.5, 0.5)"
   ]
  },
  {
   "cell_type": "code",
   "execution_count": null,
   "id": "5c932d82",
   "metadata": {},
   "outputs": [],
   "source": [
    "s.stop()"
   ]
  },
  {
   "cell_type": "code",
   "execution_count": null,
   "id": "d364183c",
   "metadata": {},
   "outputs": [],
   "source": []
  }
 ],
 "metadata": {
  "kernelspec": {
   "display_name": "Python 3 (ipykernel)",
   "language": "python",
   "name": "python3"
  },
  "language_info": {
   "codemirror_mode": {
    "name": "ipython",
    "version": 3
   },
   "file_extension": ".py",
   "mimetype": "text/x-python",
   "name": "python",
   "nbconvert_exporter": "python",
   "pygments_lexer": "ipython3",
   "version": "3.9.7"
  }
 },
 "nbformat": 4,
 "nbformat_minor": 5
}
